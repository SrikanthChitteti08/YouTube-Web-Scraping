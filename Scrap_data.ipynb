{
 "cells": [
  {
   "cell_type": "markdown",
   "id": "a63df5b5-2edf-439c-be64-0b96c3d14dd1",
   "metadata": {},
   "source": [
    "## Import Libraries"
   ]
  },
  {
   "cell_type": "code",
   "execution_count": 56,
   "id": "f8599b56-ae84-4c92-a36b-0df689eb4348",
   "metadata": {},
   "outputs": [],
   "source": [
    "from selenium import webdriver\n",
    "from selenium.webdriver.chrome.service import Service\n",
    "from bs4 import BeautifulSoup\n",
    "import chromedriver_binary\n",
    "from tqdm import tqdm\n",
    "import pandas as pd\n",
    "import numpy as np\n",
    "import time"
   ]
  },
  {
   "cell_type": "markdown",
   "id": "ed31fecc-b83b-40ae-8091-acbdd73d4efc",
   "metadata": {},
   "source": [
    "## Webdrivers"
   ]
  },
  {
   "cell_type": "code",
   "execution_count": 57,
   "id": "a9c9b4e4-6966-40ce-b9dd-6347b1a5d515",
   "metadata": {},
   "outputs": [],
   "source": [
    "service = Service(executable_path = 'youtube scraping/chromedriver.exe')\n",
    "browser = webdriver.Chrome(service = service)"
   ]
  },
  {
   "cell_type": "markdown",
   "id": "37f07a30-b3c7-4462-a201-a8442afa2074",
   "metadata": {},
   "source": [
    "## Youtube Channel link"
   ]
  },
  {
   "cell_type": "code",
   "execution_count": 3,
   "id": "119b59cc-6b57-4cf1-a470-598929445243",
   "metadata": {},
   "outputs": [],
   "source": [
    "browser.get('https://www.youtube.com/@GeeksforGeeksVideos/videos')"
   ]
  },
  {
   "cell_type": "markdown",
   "id": "c1697b92-7426-4000-a96e-8316af428861",
   "metadata": {},
   "source": [
    "## Load BeautifulSoup"
   ]
  },
  {
   "cell_type": "code",
   "execution_count": 4,
   "id": "145bd1b9-a973-4086-849c-7f5871c16225",
   "metadata": {},
   "outputs": [],
   "source": [
    "soup = BeautifulSoup(browser.page_source, 'html.parser')"
   ]
  },
  {
   "cell_type": "code",
   "execution_count": null,
   "id": "ba5fd8d5-7098-4582-873e-17bab3ea0d47",
   "metadata": {},
   "outputs": [],
   "source": [
    "sp = soup.find_all('ytd-rich-item-renderer')"
   ]
  },
  {
   "cell_type": "markdown",
   "id": "e07ed431-e4bf-4dad-ba5d-1d9e72a1da6d",
   "metadata": {},
   "source": [
    "## Extract data through the youtube channel"
   ]
  },
  {
   "cell_type": "code",
   "execution_count": 5,
   "id": "df386dd5-16ea-4003-bd1a-eb853de091d2",
   "metadata": {},
   "outputs": [
    {
     "name": "stderr",
     "output_type": "stream",
     "text": [
      "100%|█████████████████████████████████████████████████████████████████████████████| 2012/2012 [00:04<00:00, 429.94it/s]\n"
     ]
    }
   ],
   "source": [
    "data = []\n",
    "\n",
    "for sp in tqdm(soup.find_all('ytd-rich-item-renderer')):\n",
    "    title = sp.find('a', class_ = 'yt-simple-endpoint focus-on-expand style-scope ytd-rich-grid-media').text\n",
    "    try:\n",
    "        views = sp.find('span', class_ = 'inline-metadata-item style-scope ytd-video-meta-block').text\n",
    "    except:\n",
    "        views = None\n",
    "    try:\n",
    "        duration = sp.find('badge-shape').text\n",
    "    except:\n",
    "        duration = None\n",
    "    try:\n",
    "        days_months = sp.find_all('span', class_ = 'inline-metadata-item style-scope ytd-video-meta-block')[1].text\n",
    "    except:\n",
    "        days_months = None\n",
    "    try:\n",
    "        thumbnail_link = sp.find('img').get('src').split('?')[0]\n",
    "    except:\n",
    "        thumbnail_link = None\n",
    "    try:\n",
    "        video_link = sp.find('a').get('href')\n",
    "    except:\n",
    "        video_link = None\n",
    "        \n",
    "    data.append([title, views, duration,days_months ,thumbnail_link ,video_link])"
   ]
  },
  {
   "cell_type": "code",
   "execution_count": 58,
   "id": "862899bf-3e3c-4bc0-9584-3d2c7b350c1b",
   "metadata": {},
   "outputs": [],
   "source": [
    "import pandas as pd"
   ]
  },
  {
   "cell_type": "code",
   "execution_count": 59,
   "id": "de119a8d-c832-4af7-b076-035ba67a0faf",
   "metadata": {},
   "outputs": [],
   "source": [
    "df = pd.DataFrame(data, columns = ['title', 'views', 'duration', 'days_months', 'thumbnail_link', 'video_link'])"
   ]
  },
  {
   "cell_type": "code",
   "execution_count": 61,
   "id": "affc2775-d33e-4d07-a935-3c99b0b14734",
   "metadata": {},
   "outputs": [
    {
     "data": {
      "text/html": [
       "<div>\n",
       "<style scoped>\n",
       "    .dataframe tbody tr th:only-of-type {\n",
       "        vertical-align: middle;\n",
       "    }\n",
       "\n",
       "    .dataframe tbody tr th {\n",
       "        vertical-align: top;\n",
       "    }\n",
       "\n",
       "    .dataframe thead th {\n",
       "        text-align: right;\n",
       "    }\n",
       "</style>\n",
       "<table border=\"1\" class=\"dataframe\">\n",
       "  <thead>\n",
       "    <tr style=\"text-align: right;\">\n",
       "      <th></th>\n",
       "      <th>title</th>\n",
       "      <th>views</th>\n",
       "      <th>duration</th>\n",
       "      <th>days_months</th>\n",
       "      <th>thumbnail_link</th>\n",
       "      <th>video_link</th>\n",
       "    </tr>\n",
       "  </thead>\n",
       "  <tbody>\n",
       "    <tr>\n",
       "      <th>0</th>\n",
       "      <td>Get 55+ Marks Easily in GATE CS 2025 using thi...</td>\n",
       "      <td>9.6K views</td>\n",
       "      <td>7:03</td>\n",
       "      <td>1 day ago</td>\n",
       "      <td>https://i.ytimg.com/vi/hc4_PWFFJnk/hqdefault.jpg</td>\n",
       "      <td>/watch?v=hc4_PWFFJnk</td>\n",
       "    </tr>\n",
       "    <tr>\n",
       "      <th>1</th>\n",
       "      <td>What is Machine Learning? | Lecture 1 | Free V...</td>\n",
       "      <td>639 views</td>\n",
       "      <td>10:46</td>\n",
       "      <td>3 days ago</td>\n",
       "      <td>https://i.ytimg.com/vi/1PtHLVsG_8s/hqdefault.jpg</td>\n",
       "      <td>/watch?v=1PtHLVsG_8s</td>\n",
       "    </tr>\n",
       "    <tr>\n",
       "      <th>2</th>\n",
       "      <td>A Day in the Life at IIT: Struggles &amp; Successe...</td>\n",
       "      <td>3.1K views</td>\n",
       "      <td>8:06</td>\n",
       "      <td>4 days ago</td>\n",
       "      <td>https://i.ytimg.com/vi/Ioj_XA-_jIY/hqdefault.jpg</td>\n",
       "      <td>/watch?v=Ioj_XA-_jIY</td>\n",
       "    </tr>\n",
       "    <tr>\n",
       "      <th>3</th>\n",
       "      <td>DSA was hard until i learned these 10 Patterns...</td>\n",
       "      <td>7.4K views</td>\n",
       "      <td>6:32</td>\n",
       "      <td>6 days ago</td>\n",
       "      <td>https://i.ytimg.com/vi/aWjFPloGYmg/hqdefault.jpg</td>\n",
       "      <td>/watch?v=aWjFPloGYmg</td>\n",
       "    </tr>\n",
       "    <tr>\n",
       "      <th>4</th>\n",
       "      <td>You're missing out by not starting the Three 9...</td>\n",
       "      <td>305K views</td>\n",
       "      <td>0:32</td>\n",
       "      <td>10 days ago</td>\n",
       "      <td>https://i.ytimg.com/vi/Tcmo0fSCAJQ/hqdefault.jpg</td>\n",
       "      <td>/watch?v=Tcmo0fSCAJQ</td>\n",
       "    </tr>\n",
       "  </tbody>\n",
       "</table>\n",
       "</div>"
      ],
      "text/plain": [
       "                                               title       views duration  \\\n",
       "0  Get 55+ Marks Easily in GATE CS 2025 using thi...  9.6K views     7:03   \n",
       "1  What is Machine Learning? | Lecture 1 | Free V...   639 views    10:46   \n",
       "2  A Day in the Life at IIT: Struggles & Successe...  3.1K views     8:06   \n",
       "3  DSA was hard until i learned these 10 Patterns...  7.4K views     6:32   \n",
       "4  You're missing out by not starting the Three 9...  305K views     0:32   \n",
       "\n",
       "   days_months                                    thumbnail_link  \\\n",
       "0    1 day ago  https://i.ytimg.com/vi/hc4_PWFFJnk/hqdefault.jpg   \n",
       "1   3 days ago  https://i.ytimg.com/vi/1PtHLVsG_8s/hqdefault.jpg   \n",
       "2   4 days ago  https://i.ytimg.com/vi/Ioj_XA-_jIY/hqdefault.jpg   \n",
       "3   6 days ago  https://i.ytimg.com/vi/aWjFPloGYmg/hqdefault.jpg   \n",
       "4  10 days ago  https://i.ytimg.com/vi/Tcmo0fSCAJQ/hqdefault.jpg   \n",
       "\n",
       "             video_link  \n",
       "0  /watch?v=hc4_PWFFJnk  \n",
       "1  /watch?v=1PtHLVsG_8s  \n",
       "2  /watch?v=Ioj_XA-_jIY  \n",
       "3  /watch?v=aWjFPloGYmg  \n",
       "4  /watch?v=Tcmo0fSCAJQ  "
      ]
     },
     "execution_count": 61,
     "metadata": {},
     "output_type": "execute_result"
    }
   ],
   "source": [
    "df.head()"
   ]
  },
  {
   "cell_type": "code",
   "execution_count": null,
   "id": "4f54b633-f3a0-404b-8aff-d057b3bab378",
   "metadata": {},
   "outputs": [
    {
     "name": "stdout",
     "output_type": "stream",
     "text": [
      "454\n",
      "26\n",
      "93\n",
      "542\n",
      "85\n",
      "73\n",
      "101\n",
      "71\n",
      "8\n"
     ]
    }
   ],
   "source": [
    "for link in df['video_link']:\n",
    "    link = 'https://www.youtube.com' + link\n",
    "    browser.get(link)\n",
    "    time.sleep(2)\n",
    "    soup = BeautifulSoup(browser.page_source, 'html.parser')\n",
    "    sp = soup.find_all('ytd-watch-metadata')\n",
    "    likes = sp[0].find('button-view-model').text\n",
    "    print(likes)"
   ]
  },
  {
   "cell_type": "code",
   "execution_count": 33,
   "id": "a374f2fd-ac7e-454c-93ad-2077e6d20f48",
   "metadata": {},
   "outputs": [],
   "source": [
    "soup = BeautifulSoup(browser.page_source, 'html.parser')"
   ]
  },
  {
   "cell_type": "code",
   "execution_count": 39,
   "id": "76fdd6f2-3d5c-4467-ab8a-2992f0651b61",
   "metadata": {},
   "outputs": [],
   "source": [
    "sp = soup.find_all('ytd-watch-metadata')"
   ]
  },
  {
   "cell_type": "code",
   "execution_count": 52,
   "id": "81cf1046-5468-455b-ba37-1c35e708bc6b",
   "metadata": {},
   "outputs": [
    {
     "data": {
      "text/plain": [
       "'447'"
      ]
     },
     "execution_count": 52,
     "metadata": {},
     "output_type": "execute_result"
    }
   ],
   "source": [
    "likes = sp[0].find('button-view-model').text"
   ]
  },
  {
   "cell_type": "code",
   "execution_count": 54,
   "id": "31d507b7-001a-48a2-91f0-9a99bea2a483",
   "metadata": {},
   "outputs": [
    {
     "name": "stdout",
     "output_type": "stream",
     "text": [
      "1\n",
      "2\n",
      "3\n",
      "4\n",
      "5\n",
      "6\n",
      "7\n",
      "8\n",
      "9\n",
      "10\n"
     ]
    }
   ],
   "source": [
    "for i in range(1,11):\n",
    "    print(i)\n",
    "    time.sleep(2)"
   ]
  },
  {
   "cell_type": "code",
   "execution_count": null,
   "id": "0016f342-2be3-4c67-ae74-8af8155d18b3",
   "metadata": {},
   "outputs": [],
   "source": []
  }
 ],
 "metadata": {
  "kernelspec": {
   "display_name": "Python 3 (ipykernel)",
   "language": "python",
   "name": "python3"
  },
  "language_info": {
   "codemirror_mode": {
    "name": "ipython",
    "version": 3
   },
   "file_extension": ".py",
   "mimetype": "text/x-python",
   "name": "python",
   "nbconvert_exporter": "python",
   "pygments_lexer": "ipython3",
   "version": "3.12.7"
  }
 },
 "nbformat": 4,
 "nbformat_minor": 5
}
