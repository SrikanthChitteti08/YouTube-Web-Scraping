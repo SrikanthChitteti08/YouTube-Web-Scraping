{
 "cells": [
  {
   "cell_type": "markdown",
   "id": "4d18dbcf-8274-4b85-a28a-3b50a9207242",
   "metadata": {},
   "source": [
    "## Import libraries"
   ]
  },
  {
   "cell_type": "code",
   "execution_count": 6,
   "id": "247e8b1d-48f5-4cf8-8d0f-953f5abbf839",
   "metadata": {},
   "outputs": [],
   "source": [
    "from selenium import webdriver\n",
    "from selenium.webdriver.chrome.service import Service\n",
    "from bs4 import BeautifulSoup\n",
    "import chromedriver_binary"
   ]
  },
  {
   "cell_type": "markdown",
   "id": "17f150af-241c-40bd-ba8e-4576240cc9ad",
   "metadata": {},
   "source": [
    "## Load webdrivers"
   ]
  },
  {
   "cell_type": "code",
   "execution_count": 7,
   "id": "ffdd8578-65a1-434f-8038-22cbe5da99d1",
   "metadata": {},
   "outputs": [],
   "source": [
    "service = Service(executable_path = 'chromedriver.exe')\n",
    "browser = webdriver.Chrome(service = service)\n",
    "browser.get('https://www.youtube.com/@GeeksforGeeksPractice/videos')"
   ]
  },
  {
   "cell_type": "markdown",
   "id": "41dcaffc-cdbc-4a55-b467-7f3739bf86c3",
   "metadata": {},
   "source": [
    "## Beautiful Soup"
   ]
  },
  {
   "cell_type": "code",
   "execution_count": 446,
   "id": "90272aad-e797-4510-86bd-10ce66f8447a",
   "metadata": {},
   "outputs": [],
   "source": [
    "soup = BeautifulSoup(browser.page_source, 'html.parser')"
   ]
  },
  {
   "cell_type": "code",
   "execution_count": 420,
   "id": "3fb227c7-d4a4-4059-853b-0842ee98dbc9",
   "metadata": {},
   "outputs": [],
   "source": [
    "sp = soup.find_all('ytd-rich-item-renderer')"
   ]
  },
  {
   "cell_type": "code",
   "execution_count": 447,
   "id": "9b523059-b1af-4235-99c6-3d7042926254",
   "metadata": {},
   "outputs": [],
   "source": [
    "data = []\n",
    "for sp in soup.find_all('ytd-rich-item-renderer'):\n",
    "    title = sp.find('h3').text\n",
    "    views = sp.find_all('span',class_ = \"inline-metadata-item style-scope ytd-video-meta-block\")[0].text\n",
    "    days_months  = sp.find_all('span',class_ = \"inline-metadata-item style-scope ytd-video-meta-block\")[1].text\n",
    "    thumbnail_link = sp.find('img').get('src')\n",
    "    video_link = sp.find('a').get('href')\n",
    "    data.append([title, views, days_months, thumbnail_link, video_link])"
   ]
  },
  {
   "cell_type": "code",
   "execution_count": 448,
   "id": "d70c4a0a-b661-4bde-b165-67a06e3f92f4",
   "metadata": {},
   "outputs": [
    {
     "data": {
      "text/plain": [
       "990"
      ]
     },
     "execution_count": 448,
     "metadata": {},
     "output_type": "execute_result"
    }
   ],
   "source": [
    "len(data)"
   ]
  },
  {
   "cell_type": "code",
   "execution_count": 449,
   "id": "aee356f5-f6cc-45a4-96ea-a03196dd0ea7",
   "metadata": {},
   "outputs": [],
   "source": [
    "import pandas as pd"
   ]
  },
  {
   "cell_type": "code",
   "execution_count": 450,
   "id": "ad634487-a608-4770-8218-21b07a91f7ff",
   "metadata": {},
   "outputs": [],
   "source": [
    "df = pd.DataFrame(data, columns = ['title', 'views', 'days_months', 'thumbnail_link', 'video_link'])"
   ]
  },
  {
   "cell_type": "code",
   "execution_count": 452,
   "id": "f720d1fa-7fbb-4648-a33b-2e8842147af1",
   "metadata": {},
   "outputs": [],
   "source": [
    "df.to_csv(\"gfg_yt\", index = False)"
   ]
  }
 ],
 "metadata": {
  "kernelspec": {
   "display_name": "Python 3 (ipykernel)",
   "language": "python",
   "name": "python3"
  },
  "language_info": {
   "codemirror_mode": {
    "name": "ipython",
    "version": 3
   },
   "file_extension": ".py",
   "mimetype": "text/x-python",
   "name": "python",
   "nbconvert_exporter": "python",
   "pygments_lexer": "ipython3",
   "version": "3.12.7"
  }
 },
 "nbformat": 4,
 "nbformat_minor": 5
}
